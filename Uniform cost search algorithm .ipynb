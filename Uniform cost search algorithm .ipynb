{
 "cells": [
  {
   "cell_type": "code",
   "execution_count": null,
   "metadata": {},
   "outputs": [],
   "source": []
  },
  {
   "cell_type": "code",
   "execution_count": 2,
   "metadata": {},
   "outputs": [],
   "source": [
    "# Problem solving using Uniform Cost Search Algorithm"
   ]
  },
  {
   "cell_type": "code",
   "execution_count": 3,
   "metadata": {},
   "outputs": [],
   "source": [
    "def min_cost_and_path_to_travel(current_node):\n",
    "    queue = {} # Used to store the path along with the cost \n",
    "    min_fare = 0\n",
    "\n",
    "    while(current_node[-1] != 'G'): # Condition to check whether we reached the destination node or not\n",
    "        expansion_node = current_node[-1] # Contains the node that is to be further expanded\n",
    "        current_node_expansion = {} # The dictionary which records the path and cost of the node expanded\n",
    "        for key, value in graph[expansion_node].items():\n",
    "            if key not in current_node: # Condition to check if we are visiting a node that is already visited\n",
    "                current_node_expansion[current_node+key] = graph[expansion_node][key] + min_fare # Calculating the total cost to travel from initial node to the current node\n",
    "\n",
    "        ### Updating to queue\n",
    "        for key, value in current_node_expansion.items():\n",
    "            last_node_dict = {key[-1]:key for key in list(queue.keys())} # Mapping the last node explored and the best path to reach the last node explored\n",
    "            if key[-1] in last_node_dict.keys():\n",
    "                if current_node_expansion[key] < queue[last_node_dict[key[-1]]]: # Checking whether the cost to reach the current_node is less than updated in queue\n",
    "                    del queue[last_node_dict[key[-1]]]\n",
    "                    queue[key] = current_node_expansion[key] # Updating the queue with least cost\n",
    "            else:\n",
    "                queue[key] = value\n",
    "\n",
    "        min_fare = min(queue.values()) # Finding the min fare to travel from initial node to current node\n",
    "        for key in queue.keys():\n",
    "            if queue[key] == min_fare:\n",
    "                current_node = key\n",
    "                current_node_cost = queue[current_node]\n",
    "                del queue[current_node] # Deleting the node that is going to be explored further\n",
    "                break\n",
    "    return (current_node, current_node_cost)   # Returning the path and the min cost to travel from initial to goal node\n"
   ]
  },
  {
   "cell_type": "code",
   "execution_count": 4,
   "metadata": {},
   "outputs": [],
   "source": [
    " '''\n",
    " We are using a nested dictionary to represent the graph\n",
    " {'A':{'B':500,'D':850,'C':650}} denotes that A is connected to nodes B, D and C\n",
    " and the cost to travel between these nodes from A is 500, 850 and 650 respectively\n",
    " '''\n",
    "graph = {'A':{'B':500,'D':850,'C':650},\n",
    "         'B':{'A':500, 'C':1000,'D':590,'G':1250}, \n",
    "         'C':{'A':650, 'B':1000, 'D':600}, \n",
    "         'D':{'A':850, 'B':590, 'C':600,'E':700,'G':1500},\n",
    "         'E':{'D':700,'G':2500},\n",
    "         'G':{'B':1250,'D':1500,'E':2500}}\n"
   ]
  },
  {
   "cell_type": "code",
   "execution_count": 5,
   "metadata": {},
   "outputs": [
    {
     "name": "stdout",
     "output_type": "stream",
     "text": [
      "Enter initial node:A\n"
     ]
    }
   ],
   "source": [
    "initial_node = input(\"Enter initial node:\")\n",
    "if initial_node not in graph.keys():\n",
    "    print('Initial node is incorrect!!!')"
   ]
  },
  {
   "cell_type": "code",
   "execution_count": 6,
   "metadata": {},
   "outputs": [],
   "source": [
    "path, cost = min_cost_and_path_to_travel(initial_node)\n"
   ]
  },
  {
   "cell_type": "code",
   "execution_count": 7,
   "metadata": {},
   "outputs": [
    {
     "name": "stdout",
     "output_type": "stream",
     "text": [
      "Path taken by driver based on minimum cost of travel is ABG\n"
     ]
    }
   ],
   "source": [
    "print(\"Path taken by driver based on minimum cost of travel is {}\".format(path))"
   ]
  },
  {
   "cell_type": "code",
   "execution_count": 8,
   "metadata": {},
   "outputs": [
    {
     "name": "stdout",
     "output_type": "stream",
     "text": [
      "Minimum cost required to travel from A to G is Rs 1750\n"
     ]
    }
   ],
   "source": [
    "print(\"Minimum cost required to travel from {} to G is Rs {}\".format(initial_node, cost))"
   ]
  }
 ],
 "metadata": {
  "kernelspec": {
   "display_name": "Python 3",
   "language": "python",
   "name": "python3"
  },
  "language_info": {
   "codemirror_mode": {
    "name": "ipython",
    "version": 3
   },
   "file_extension": ".py",
   "mimetype": "text/x-python",
   "name": "python",
   "nbconvert_exporter": "python",
   "pygments_lexer": "ipython3",
   "version": "3.8.5"
  }
 },
 "nbformat": 4,
 "nbformat_minor": 4
}
